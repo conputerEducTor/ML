{
 "cells": [
  {
   "cell_type": "markdown",
   "id": "397935ec",
   "metadata": {},
   "source": [
    "# Python Data Structure and Boolean\n"
   ]
  },
  {
   "cell_type": "markdown",
   "id": "adf01105",
   "metadata": {},
   "source": [
    "**Boolean**\n",
    "**Boolean and logical Operators**\n",
    "**Lists**\n",
    "**Comparidon operators**\n",
    "**Dictionaries**\n",
    "**Tuples**\n",
    "**Sets**"
   ]
  },
  {
   "cell_type": "markdown",
   "id": "afa0e4d6",
   "metadata": {},
   "source": [
    " **Boolean Variables**"
   ]
  },
  {
   "cell_type": "markdown",
   "id": "696b5f22",
   "metadata": {},
   "source": [
    "*Booleans values are the two constant object False and True*"
   ]
  },
  {
   "cell_type": "code",
   "execution_count": 1,
   "id": "b8d258d3",
   "metadata": {},
   "outputs": [],
   "source": [
    "name= \"Nirmal \"\n"
   ]
  },
  {
   "cell_type": "code",
   "execution_count": 5,
   "id": "38488e74",
   "metadata": {},
   "outputs": [
    {
     "name": "stdout",
     "output_type": "stream",
     "text": [
      "False\n",
      "False\n",
      "False\n",
      "True\n",
      "False\n",
      "False\n",
      "False\n",
      "False\n",
      "True\n"
     ]
    }
   ],
   "source": [
    "print(name.isalnum()) #check if all char are numbers or some number in it\n",
    "print(name.isalpha()) #check if all char in the string are alphabetic\n",
    "print(name.isdigit()) #check if string contains digits\n",
    "print(name.istitle()) #test if string contains title words\n",
    "print(name.isupper()) # test if string contains upper case\n",
    "print(name.islower()) # test if string is contain lower case\n",
    "print(name.isspace()) # test is there any space\n",
    "print(name.endswith('a')) # test if string ends with some char or number\n",
    "print(name.startswith('N')) #test is string start with something "
   ]
  },
  {
   "cell_type": "markdown",
   "id": "0d9c385f",
   "metadata": {},
   "source": [
    "# Boolean and logical operators"
   ]
  },
  {
   "cell_type": "code",
   "execution_count": 1,
   "id": "e2bfa385",
   "metadata": {},
   "outputs": [
    {
     "data": {
      "text/plain": [
       "True"
      ]
     },
     "execution_count": 1,
     "metadata": {},
     "output_type": "execute_result"
    }
   ],
   "source": [
    "True and True"
   ]
  },
  {
   "cell_type": "code",
   "execution_count": 2,
   "id": "137efa9b",
   "metadata": {},
   "outputs": [
    {
     "data": {
      "text/plain": [
       "False"
      ]
     },
     "execution_count": 2,
     "metadata": {},
     "output_type": "execute_result"
    }
   ],
   "source": [
    "True and False"
   ]
  },
  {
   "cell_type": "code",
   "execution_count": 3,
   "id": "74bce05d",
   "metadata": {},
   "outputs": [
    {
     "data": {
      "text/plain": [
       "False"
      ]
     },
     "execution_count": 3,
     "metadata": {},
     "output_type": "execute_result"
    }
   ],
   "source": [
    "False and True"
   ]
  },
  {
   "cell_type": "code",
   "execution_count": 4,
   "id": "1f71f16b",
   "metadata": {},
   "outputs": [
    {
     "data": {
      "text/plain": [
       "False"
      ]
     },
     "execution_count": 4,
     "metadata": {},
     "output_type": "execute_result"
    }
   ],
   "source": [
    "False and False"
   ]
  },
  {
   "cell_type": "markdown",
   "id": "eb121f7e",
   "metadata": {},
   "source": [
    "**----------------------------------------------------------------------------**"
   ]
  },
  {
   "cell_type": "code",
   "execution_count": 6,
   "id": "5a04734a",
   "metadata": {},
   "outputs": [
    {
     "data": {
      "text/plain": [
       "True"
      ]
     },
     "execution_count": 6,
     "metadata": {},
     "output_type": "execute_result"
    }
   ],
   "source": [
    "True or True"
   ]
  },
  {
   "cell_type": "code",
   "execution_count": 7,
   "id": "aca88923",
   "metadata": {},
   "outputs": [
    {
     "data": {
      "text/plain": [
       "True"
      ]
     },
     "execution_count": 7,
     "metadata": {},
     "output_type": "execute_result"
    }
   ],
   "source": [
    "True or False"
   ]
  },
  {
   "cell_type": "code",
   "execution_count": 8,
   "id": "99ab8573",
   "metadata": {},
   "outputs": [
    {
     "data": {
      "text/plain": [
       "True"
      ]
     },
     "execution_count": 8,
     "metadata": {},
     "output_type": "execute_result"
    }
   ],
   "source": [
    "False or True"
   ]
  },
  {
   "cell_type": "code",
   "execution_count": 9,
   "id": "4e2730f4",
   "metadata": {},
   "outputs": [
    {
     "data": {
      "text/plain": [
       "False"
      ]
     },
     "execution_count": 9,
     "metadata": {},
     "output_type": "execute_result"
    }
   ],
   "source": [
    "False or False"
   ]
  },
  {
   "cell_type": "code",
   "execution_count": 10,
   "id": "ab628280",
   "metadata": {},
   "outputs": [
    {
     "data": {
      "text/plain": [
       "True"
      ]
     },
     "execution_count": 10,
     "metadata": {},
     "output_type": "execute_result"
    }
   ],
   "source": [
    "my_name= \"NIRMAL\"\n",
    "name1='Name'\n",
    "my_name.isalpha() or name1.isalnum()"
   ]
  },
  {
   "cell_type": "code",
   "execution_count": 11,
   "id": "73fa8236",
   "metadata": {},
   "outputs": [
    {
     "data": {
      "text/plain": [
       "False"
      ]
     },
     "execution_count": 11,
     "metadata": {},
     "output_type": "execute_result"
    }
   ],
   "source": [
    "my_name= \"NIRMAL\"\n",
    "name1='Name'\n",
    "my_name.isupper() and name1.islower()"
   ]
  },
  {
   "cell_type": "code",
   "execution_count": null,
   "id": "a103628d",
   "metadata": {},
   "outputs": [],
   "source": []
  }
 ],
 "metadata": {
  "kernelspec": {
   "display_name": "Python 3",
   "language": "python",
   "name": "python3"
  },
  "language_info": {
   "codemirror_mode": {
    "name": "ipython",
    "version": 3
   },
   "file_extension": ".py",
   "mimetype": "text/x-python",
   "name": "python",
   "nbconvert_exporter": "python",
   "pygments_lexer": "ipython3",
   "version": "3.8.8"
  }
 },
 "nbformat": 4,
 "nbformat_minor": 5
}
